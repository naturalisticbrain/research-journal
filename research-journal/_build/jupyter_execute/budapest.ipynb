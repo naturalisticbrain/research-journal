{
 "cells": [
  {
   "cell_type": "markdown",
   "id": "ddd0c06a",
   "metadata": {},
   "source": [
    "# Budapest\n",
    "\n",
    "| | |\n",
    "| -------------- | ----------------------------- |\n",
    "| **GitHub Link**  | |\n",
    "| **Collaborators**|             |\n",
    "| **MIT Project**  | No                    |\n",
    "| **SIG Project**  | No                    |\n",
    "\n",
    "\n",
    "## Project Description\n",
    "[Describe your project here]"
   ]
  }
 ],
 "metadata": {
  "jupytext": {
   "cell_metadata_filter": "-all",
   "formats": "md:myst",
   "text_representation": {
    "extension": ".md",
    "format_name": "myst",
    "format_version": 0.13,
    "jupytext_version": "1.11.5"
   }
  },
  "kernelspec": {
   "display_name": "Python 3",
   "language": "python",
   "name": "python3"
  },
  "language_info": {
   "codemirror_mode": {
    "name": "ipython",
    "version": 3
   },
   "file_extension": ".py",
   "mimetype": "text/x-python",
   "name": "python",
   "nbconvert_exporter": "python",
   "pygments_lexer": "ipython3",
   "version": "3.11.4"
  },
  "source_map": [
   14
  ]
 },
 "nbformat": 4,
 "nbformat_minor": 5
}