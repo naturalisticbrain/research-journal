{
 "cells": [
  {
   "cell_type": "markdown",
   "id": "eeced263",
   "metadata": {},
   "source": [
    "# BABS\n",
    "\n",
    "| **GitHub Links** | |\n",
    "| -------------- | ----------------------------- |\n",
    "| **BABS** | https://github.com/ReproNim/reproschema |\n",
    "| **Collaborators**| Dorota, Chenying, TBD |\n",
    "\n",
    "## Project Updates\n",
    "\n",
    "### 1. Testing fMRIPrep via BABS on OpenMind\n",
    "\n",
    "@08/16/2023-08/24/2023\n",
    "> - Start testing, see [this issue](https://github.com/PennLINC/babs/issues/137) for record. The error \n",
    ">   ```\n",
    ">   [sqlite query crashed: thread blocked indefinitely in an MVar operation\n",
    ">   CallStack (from HasCallStack):\n",
    ">   error, called at ./Database/Handle.hs:81:40 in main:Database.Handle]\n",
    ">   ```\n",
    ">   is one of those not-helpful ones. Dorota thinks it might be related to OpenMind (some nodes specific). Will be checking and tracking those nodes.\n",
    "> - After many resubmits/failures, I got another error related to `midthickness` node in fmriprep, which I first thought was a freesurfer problem and posted on [Neurostars](https://neurostars.org/t/midthickness0-node-crash-during-fmriprep-23-1-4/26592/5). Later, it turned out that it might still be an BABS problem or an OpenMind problem. Tracked in this [issue](https://neurostars.org/t/midthickness0-node-crash-during-fmriprep-23-1-4/26592/5)."
   ]
  }
 ],
 "metadata": {
  "jupytext": {
   "cell_metadata_filter": "-all",
   "formats": "md:myst",
   "text_representation": {
    "extension": ".md",
    "format_name": "myst",
    "format_version": 0.13,
    "jupytext_version": "1.11.5"
   }
  },
  "kernelspec": {
   "display_name": "Python 3",
   "language": "python",
   "name": "python3"
  },
  "language_info": {
   "codemirror_mode": {
    "name": "ipython",
    "version": 3
   },
   "file_extension": ".py",
   "mimetype": "text/x-python",
   "name": "python",
   "nbconvert_exporter": "python",
   "pygments_lexer": "ipython3",
   "version": "3.11.4"
  },
  "source_map": [
   14
  ]
 },
 "nbformat": 4,
 "nbformat_minor": 5
}