{
 "cells": [
  {
   "cell_type": "markdown",
   "id": "52885ee6",
   "metadata": {},
   "source": [
    "# Pydra\n",
    "\n",
    "**GitHub Links**:\n",
    "- https://github.com/nipype/pydra \n",
    "- https://github.com/nipype/pydra-tutorial\n",
    "- https://github.com/nipype/nipype2pydra\n",
    "\n",
    "**Collaborators**: Dorota\n",
    "\n",
    "## Project Updates\n",
    "\n",
    "**Weekly Meeting (DJ & YC): Thursdays 3-5pm, EST**\n",
    "\n",
    "### 1. Pydra Tutorial\n",
    "\n",
    "@08/24/2023\n",
    "> Met with Dorota, we will introduce the new [typing-checking](https://github.com/nipype/pydra/pull/662) to the tutorial."
   ]
  }
 ],
 "metadata": {
  "jupytext": {
   "cell_metadata_filter": "-all",
   "formats": "md:myst",
   "text_representation": {
    "extension": ".md",
    "format_name": "myst",
    "format_version": 0.13,
    "jupytext_version": "1.11.5"
   }
  },
  "kernelspec": {
   "display_name": "Python 3",
   "language": "python",
   "name": "python3"
  },
  "language_info": {
   "codemirror_mode": {
    "name": "ipython",
    "version": 3
   },
   "file_extension": ".py",
   "mimetype": "text/x-python",
   "name": "python",
   "nbconvert_exporter": "python",
   "pygments_lexer": "ipython3",
   "version": "3.11.4"
  },
  "source_map": [
   14
  ]
 },
 "nbformat": 4,
 "nbformat_minor": 5
}