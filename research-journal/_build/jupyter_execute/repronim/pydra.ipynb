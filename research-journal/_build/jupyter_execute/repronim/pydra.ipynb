{
 "cells": [
  {
   "cell_type": "markdown",
   "id": "8a0116b8",
   "metadata": {},
   "source": [
    "# Pydra\n",
    "\n",
    "**GitHub Links**:\n",
    "- https://github.com/nipype/pydra \n",
    "- https://github.com/nipype/pydra-tutorial\n",
    "- https://github.com/nipype/nipype2pydra\n",
    "\n",
    "**Contributors**: Dorota\n",
    "\n",
    "## Project Updates\n",
    "\n",
    "**Weekly Meeting (DJ & YC): Thursdays 3-5pm, EST**\n",
    "\n",
    "**Pydra Tutorial**\n",
    "\n",
    "### 10/16/2023 - 10/20/2023\n",
    "- this week is pydra hack week and we have meetings almost every day working on improving tutorials\n",
    "- YC & DJ may still spend some time keep working on it next week (depends on how YC's SfN & OHBM analyses pan out)\n",
    "\n",
    "### 09/18/2023 - 09/22/2023\n",
    "- added [type-checking](https://github.com/nipype/pydra-tutorial/pull/47) to the tutorial, but then this new version of pydra has some conflicts with my old code on 2nd level GLM\n",
    "- during pydra meeting, we discussed creating/updating/integrating documentation & tutorial. more details will come during the hackthon week (10/16-10/20).\n",
    "\n",
    "### 08/24/2023\n",
    "Met with Dorota, we will introduce the new [typing-checking](https://github.com/nipype/pydra/pull/662) to the tutorial."
   ]
  }
 ],
 "metadata": {
  "jupytext": {
   "cell_metadata_filter": "-all",
   "formats": "md:myst",
   "text_representation": {
    "extension": ".md",
    "format_name": "myst",
    "format_version": 0.13,
    "jupytext_version": "1.11.5"
   }
  },
  "kernelspec": {
   "display_name": "Python 3",
   "language": "python",
   "name": "python3"
  },
  "language_info": {
   "codemirror_mode": {
    "name": "ipython",
    "version": 3
   },
   "file_extension": ".py",
   "mimetype": "text/x-python",
   "name": "python",
   "nbconvert_exporter": "python",
   "pygments_lexer": "ipython3",
   "version": "3.12.1"
  },
  "source_map": [
   14
  ]
 },
 "nbformat": 4,
 "nbformat_minor": 5
}