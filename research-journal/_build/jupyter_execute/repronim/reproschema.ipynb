{
 "cells": [
  {
   "cell_type": "markdown",
   "id": "12a753cb",
   "metadata": {},
   "source": [
    "# ReproSchema\n",
    "\n",
    "**GitHub Links** \n",
    "- https://github.com/ReproNim/reproschema\n",
    "- https://github.com/ReproNim/reproschema-library\n",
    "\n",
    "**Contributors**: Dorota, Kseniia, Maedbh, Sooyang\n",
    "\n",
    "## Project Updates\n",
    "\n",
    "**Converting HBN assessments**\n",
    "\n",
    "**Code on GitHub**: [Private](https://github.com/yibeichan/hbn_practice/tree/main/reproschema)\n",
    "\n",
    "### 10/16/2023 - 10/20/2023\n",
    "- had a meeting with Dorota & Sooyang discussing about where we are at with LinkML\n",
    "- Dorota & Sooyang will keep working on this next Monday, YC will catch up on this after OHBM submission\n",
    "\n",
    "### 09/25/2023 - 09/29/2023\n",
    "- got some feedback on other comparable tools (added to the outline) at the repronim meeting\n",
    "- fix abcd_cbcl01 scoring, see [PR](https://github.com/ReproNim/reproschema-library/pull/68)\n",
    "\n",
    "### 09/18/2023 - 09/22/2023\n",
    "- drafted the outline for manuscript, DJ has commented on it.\n",
    "\n",
    "### 09/11/2023 - 09/15/2023\n",
    "- played with the [demo-protocal](https://github.com/yibeichan/demo-protocol), got some errors for loading the webpage\n",
    "\n",
    "### 09/05/2023 - 09/08/2023\n",
    "- DJ and YC went through YC's PR and then merged it\n",
    "- YC will use the newly added assessment to create a protocol (via reproschema-ui repo). This would be useful for\n",
    "  - testing whether the assessments works\n",
    "  - checking whether the reproschema-ui documentation needs any improvement\n",
    "  - writing the paper because making this protocal can help us to put our feet into user's shoes to see what kind of obstacels they would ecounter, etc.\n",
    "\n",
    "### 08/28/2023 - 09/01/2023\n",
    "- Revised the 12 assessments in this [PR](https://github.com/ReproNim/reproschema-library/pull/67) \n",
    "\n",
    "### 08/24/2023\n",
    "- Start (manually) collecting free HBN assessments, shared on [SIG Google Drive](https://drive.google.com/drive/folders/19WaMiDkIfXoBbIP4DfMj57j0Q9IHq2E-?usp=drive_link). Kseniia has access too.\n",
    "- We can't calculate subscores for CBCL, because it's not free. We can't make it public either. This applies to all private/paid assessments. (Kseniia)\n",
    "- Dorota and I will review this [PR](https://github.com/ReproNim/reproschema-library/pull/67) on 08/29/2023.\n",
    "\n",
    "### 07/2023\n",
    "- Start converting HBN assessments to reproschema library; Maedbh provided cleaned items\n",
    "- Maedbh introduced Kseniia\n",
    "- Dorota has been helping with programing."
   ]
  }
 ],
 "metadata": {
  "jupytext": {
   "cell_metadata_filter": "-all",
   "formats": "md:myst",
   "text_representation": {
    "extension": ".md",
    "format_name": "myst",
    "format_version": 0.13,
    "jupytext_version": "1.11.5"
   }
  },
  "kernelspec": {
   "display_name": "Python 3",
   "language": "python",
   "name": "python3"
  },
  "language_info": {
   "codemirror_mode": {
    "name": "ipython",
    "version": 3
   },
   "file_extension": ".py",
   "mimetype": "text/x-python",
   "name": "python",
   "nbconvert_exporter": "python",
   "pygments_lexer": "ipython3",
   "version": "3.11.4"
  },
  "source_map": [
   14
  ]
 },
 "nbformat": 4,
 "nbformat_minor": 5
}