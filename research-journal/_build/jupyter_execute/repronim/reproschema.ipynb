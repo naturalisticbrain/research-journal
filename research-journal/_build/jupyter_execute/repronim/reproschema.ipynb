{
 "cells": [
  {
   "cell_type": "markdown",
   "id": "a6edd7a4",
   "metadata": {},
   "source": [
    "# ReproSchema\n",
    "\n",
    "| **GitHub Links** | |\n",
    "| -------------- | ----------------------------- |\n",
    "| **ReproSchema**  | https://github.com/ReproNim/reproschema |\n",
    "| **ReproSchema Library**| https://github.com/ReproNim/reproschema-library |\n",
    "| **Collaborators**| Dorota, Kseniia, Maedbh, TBD |\n",
    "\n",
    "## Project Updates\n",
    "\n",
    "### 1. Converting HBN assessments\n",
    "\n",
    "**Code on GitHub**: [Private](https://github.com/yibeichan/hbn_practice/tree/main/reproschema)\n",
    "\n",
    "@07/2023\n",
    "> - Start converting HBN assessments to reproschema library; Maedbh provided cleaned items\n",
    "> - Maedbh introduced Kseniia\n",
    "> - Dorota has been helping with programing.\n",
    "\n",
    "@08/24/2023\n",
    "> - Start (manually) collecting free HBN assessments, shared on [SIG Google Drive](https://drive.google.com/drive/folders/19WaMiDkIfXoBbIP4DfMj57j0Q9IHq2E-?usp=drive_link). Kseniia has access too.\n",
    "> - We can't calculate subscores for CBCL, because it's not free. We can't make it public either. This applies to all private/paid assessments. (Kseniia)\n",
    "> - Dorota and I will review this [PR](https://github.com/ReproNim/reproschema-library/pull/67) on 08/29/2023."
   ]
  }
 ],
 "metadata": {
  "jupytext": {
   "cell_metadata_filter": "-all",
   "formats": "md:myst",
   "text_representation": {
    "extension": ".md",
    "format_name": "myst",
    "format_version": 0.13,
    "jupytext_version": "1.11.5"
   }
  },
  "kernelspec": {
   "display_name": "Python 3",
   "language": "python",
   "name": "python3"
  },
  "language_info": {
   "codemirror_mode": {
    "name": "ipython",
    "version": 3
   },
   "file_extension": ".py",
   "mimetype": "text/x-python",
   "name": "python",
   "nbconvert_exporter": "python",
   "pygments_lexer": "ipython3",
   "version": "3.11.4"
  },
  "source_map": [
   14
  ]
 },
 "nbformat": 4,
 "nbformat_minor": 5
}