{
 "cells": [
  {
   "cell_type": "markdown",
   "id": "4e696991",
   "metadata": {},
   "source": [
    "# Prettymouth\n",
    "\n",
    "| | |\n",
    "| -------------- | ----------------------------- |\n",
    "| **GitHub Link**  | [Private](https://github.com/yibeichan/prettymouth)|\n",
    "| **Collaborators**| Zaid Zada, Gasser Elbanna, Greg Ashby, Sam Nastase*             |\n",
    "| **MIT Project**  | No                    |\n",
    "| **SIG Project**  | No                    |\n",
    "\n",
    "\n",
    "## Project Description\n",
    "[Describe your project here]"
   ]
  }
 ],
 "metadata": {
  "jupytext": {
   "cell_metadata_filter": "-all",
   "formats": "md:myst",
   "text_representation": {
    "extension": ".md",
    "format_name": "myst",
    "format_version": 0.13,
    "jupytext_version": "1.11.5"
   }
  },
  "kernelspec": {
   "display_name": "Python 3",
   "language": "python",
   "name": "python3"
  },
  "language_info": {
   "codemirror_mode": {
    "name": "ipython",
    "version": 3
   },
   "file_extension": ".py",
   "mimetype": "text/x-python",
   "name": "python",
   "nbconvert_exporter": "python",
   "pygments_lexer": "ipython3",
   "version": "3.10.12"
  },
  "source_map": [
   14
  ]
 },
 "nbformat": 4,
 "nbformat_minor": 5
}