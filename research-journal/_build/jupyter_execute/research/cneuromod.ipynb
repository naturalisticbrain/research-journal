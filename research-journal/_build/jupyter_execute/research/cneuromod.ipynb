{
 "cells": [
  {
   "cell_type": "markdown",
   "id": "d8bf5cd5",
   "metadata": {},
   "source": [
    "# cNeuroMod\n",
    "\n",
    "## Project Description\n",
    "[cNeuroMod](https://docs.cneuromod.ca/en/latest/index.html) related projects\n",
    "\n",
    "| | |\n",
    "| -------------- | ----------------------------- |\n",
    "| **GitHub Link** | |\n",
    "| **Contributors**| SIG |\n",
    "| **MIT Project**  | Yes |\n",
    "| **SIG Project**  | Yes |\n",
    "\n",
    "### [shinobi](research-journal/research/cneuromod/shinobi.md)\n",
    "\n",
    "### [friends](research-journal/research/cneuromod/friends.md)"
   ]
  }
 ],
 "metadata": {
  "jupytext": {
   "cell_metadata_filter": "-all",
   "formats": "md:myst",
   "text_representation": {
    "extension": ".md",
    "format_name": "myst",
    "format_version": 0.13,
    "jupytext_version": "1.11.5"
   }
  },
  "kernelspec": {
   "display_name": "Python 3",
   "language": "python",
   "name": "python3"
  },
  "language_info": {
   "codemirror_mode": {
    "name": "ipython",
    "version": 3
   },
   "file_extension": ".py",
   "mimetype": "text/x-python",
   "name": "python",
   "nbconvert_exporter": "python",
   "pygments_lexer": "ipython3",
   "version": "3.12.1"
  },
  "source_map": [
   14
  ]
 },
 "nbformat": 4,
 "nbformat_minor": 5
}