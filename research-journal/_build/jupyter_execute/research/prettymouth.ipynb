{
 "cells": [
  {
   "cell_type": "markdown",
   "id": "6bee06b7",
   "metadata": {},
   "source": [
    "# Prettymouth\n",
    "\n",
    "## Project Description\n",
    "Belief-dependent cortical network dynamics during naturalistic audio-listening\n",
    "\n",
    "| | |\n",
    "| -------------- | ----------------------------- |\n",
    "| **GitHub Link**  | [Private](https://github.com/yibeichan/prettymouth) |\n",
    "| **Collaborators**| Zaid Zada, Gasser Elbanna, Greg Ashby, Sam Nastase* |\n",
    "| **MIT Project**  | No |\n",
    "| **SIG Project**  | No |\n",
    "\n",
    "## Project Updates\n",
    "\n",
    "**This project has been submitted to OHBN 2023 and presented as a poster in July 2023, Montreal, Canada.**\n",
    "\n",
    "### 09/18/2023 - 09/22/2023\n",
    "- YC need to update plots/figures\n",
    "- new concerns raised. \n",
    "- - we need behavioral ratings for each event (how to get it?)\n",
    "- - we need to do some network-level analysis\n",
    "\n",
    "### 09/11/2023 - 09/15/2023\n",
    "- disagreement resolved, move to plotting and manuscript writing\n",
    "\n",
    "### 09/05/2023 - 09/08/2023\n",
    "- SN and YC have disagreement on processing the behavioral event boundary data\n",
    "- ZZ and SN suggested different methods on detecting peaks\n",
    "- YC will run analysis again this Sunday\n",
    "\n",
    "### 08/28/2023 - 09/01/2023\n",
    "- `--use-aroma` is depricated since fMRIPrep 23.1.0\n",
    "- We go for `cifti` format\n",
    "- Cofluctuation calculation ready for all parcel versions\n",
    "- TODOs:\n",
    "  - finish the behavioral event segmentation analysis\n",
    "  - keep writing the methods part while doing the analysis\n",
    "\n",
    "### 08/24/2023\n",
    "Met with SN; TODOs for the coming week:\n",
    "- new fmriprep + preproc data ready (from GE). But I need to check what `--use-aroma` did. SN is concerned about `--output-spaces MNI152NLin6Asym:res-2 anat `; we should be more cautious when modifying the original BOLD signals (minimize the resampling on BOLD as much as possible).\n",
    "- I need to figure out `cifti` format and rerun our previous analyses.\n",
    "- Prolific data collection completed! Within 3 hours! Now I need to figure out how to analyze it.\n",
    "- Thinking about how to create Figure 1 (schematic).\n",
    "- Keep revising the intro part.\n",
    "\n",
    "### 03/2022—08/2023\n",
    "- YC and GA initalized the project (03/2022)\n",
    "- YC invited SN (08/2022)\n",
    "- SN invited ZZ (10/2022)\n",
    "- YC invited GE (08/2023)"
   ]
  }
 ],
 "metadata": {
  "jupytext": {
   "cell_metadata_filter": "-all",
   "formats": "md:myst",
   "text_representation": {
    "extension": ".md",
    "format_name": "myst",
    "format_version": 0.13,
    "jupytext_version": "1.11.5"
   }
  },
  "kernelspec": {
   "display_name": "Python 3",
   "language": "python",
   "name": "python3"
  },
  "language_info": {
   "codemirror_mode": {
    "name": "ipython",
    "version": 3
   },
   "file_extension": ".py",
   "mimetype": "text/x-python",
   "name": "python",
   "nbconvert_exporter": "python",
   "pygments_lexer": "ipython3",
   "version": "3.11.4"
  },
  "source_map": [
   14
  ]
 },
 "nbformat": 4,
 "nbformat_minor": 5
}