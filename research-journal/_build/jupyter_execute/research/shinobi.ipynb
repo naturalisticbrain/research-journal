{
 "cells": [
  {
   "cell_type": "markdown",
   "id": "d2bc6132",
   "metadata": {},
   "source": [
    "# Shinobi cNeuroMod\n",
    "\n",
    "## Project Description\n",
    "Video game playing in a deep scanning [dataset](https://www.cneuromod.ca/)\n",
    "\n",
    "| | |\n",
    "| -------------- | ----------------------------- |\n",
    "| **GitHub Link**  | [Private](https://github.com/yibeichan/shinobi-cnm) |\n",
    "| **Contributors**| Yibei Chen, TBD, Satra Ghosh* |\n",
    "| **MIT Project**  | Yes |\n",
    "| **SIG Project**  | Yes |\n",
    "\n",
    "## Project Updates\n",
    "\n",
    "### 01/15/2024 - 01/19/2024\n",
    "- finally extracted `bk2` files (game replay files) to `json` files for the game play outside and inside the fmri; but i need to redo the extraction, it turns out that audio extract is also an option, see [here](https://github.com/courtois-neuromod/shinobi_training/issues/1#issuecomment-1900726304). There are some broken `bk2` files too... a bit sad.\n",
    "- i'll start visualization next week\n",
    "- fmri data is put aside at this moment"
   ]
  }
 ],
 "metadata": {
  "jupytext": {
   "cell_metadata_filter": "-all",
   "formats": "md:myst",
   "text_representation": {
    "extension": ".md",
    "format_name": "myst",
    "format_version": 0.13,
    "jupytext_version": "1.11.5"
   }
  },
  "kernelspec": {
   "display_name": "Python 3",
   "language": "python",
   "name": "python3"
  },
  "language_info": {
   "codemirror_mode": {
    "name": "ipython",
    "version": 3
   },
   "file_extension": ".py",
   "mimetype": "text/x-python",
   "name": "python",
   "nbconvert_exporter": "python",
   "pygments_lexer": "ipython3",
   "version": "3.12.1"
  },
  "source_map": [
   14
  ]
 },
 "nbformat": 4,
 "nbformat_minor": 5
}