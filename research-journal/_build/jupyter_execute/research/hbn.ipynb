{
 "cells": [
  {
   "cell_type": "markdown",
   "id": "b332e595",
   "metadata": {},
   "source": [
    "# Healthy Brain Network\n",
    "\n",
    "## Project Description\n",
    "[Healthy Brain Network](http://fcon_1000.projects.nitrc.org/indi/cmi_healthy_brain_network/index.html) related projects\n",
    "\n",
    "| | |\n",
    "| -------------- | ----------------------------- |\n",
    "| **GitHub Link**  | None |\n",
    "| **Collaborators**| SIG |\n",
    "| **MIT Project**  | Yes |\n",
    "| **SIG Project**  | Yes |\n",
    "\n",
    "### [Data Processing](research-journal/research/hbn/data-proc.md)\n",
    "\n",
    "### [Eye-Tracking ASD](research-journal/research/hbn/eye-tracking-asd.md)"
   ]
  }
 ],
 "metadata": {
  "jupytext": {
   "cell_metadata_filter": "-all",
   "formats": "md:myst",
   "text_representation": {
    "extension": ".md",
    "format_name": "myst",
    "format_version": 0.13,
    "jupytext_version": "1.11.5"
   }
  },
  "kernelspec": {
   "display_name": "Python 3",
   "language": "python",
   "name": "python3"
  },
  "language_info": {
   "codemirror_mode": {
    "name": "ipython",
    "version": 3
   },
   "file_extension": ".py",
   "mimetype": "text/x-python",
   "name": "python",
   "nbconvert_exporter": "python",
   "pygments_lexer": "ipython3",
   "version": "3.11.4"
  },
  "source_map": [
   14
  ]
 },
 "nbformat": 4,
 "nbformat_minor": 5
}