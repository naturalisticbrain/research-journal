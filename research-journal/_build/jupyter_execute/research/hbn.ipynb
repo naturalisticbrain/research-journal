{
 "cells": [
  {
   "cell_type": "markdown",
   "id": "63b4b9ac",
   "metadata": {},
   "source": [
    "# Healthy Brain Network\n",
    "\n",
    "## Project Description\n",
    "[Describe your project here]\n",
    "\n",
    "| | |\n",
    "| -------------- | ----------------------------- |\n",
    "| **GitHub Link**  | None |\n",
    "| **Collaborators**| People at SIG          |\n",
    "| **MIT Project**  | Yes                    |\n",
    "| **SIG Project**  | Yes                    |\n",
    "\n",
    "\n",
    "## Project Updates\n",
    "\n",
    "### 1. Preprocessing\n",
    "\n",
    "**Code on GitHub**: [Private](https://github.com/yibeichan/hbn_practice/tree/main/fmri/code)\n",
    "\n",
    "I am running fmriprep and xcp-d on release 10 subjects. Jeff is taking care of releases 1-9.\n",
    "\n",
    "There are 700 subjects in total.\n",
    "- 45 subjects do not have either `func` or `anat`, should be excluded.\n",
    "- 3 subjects miss `fmap` but not other parts, should be fmriprepped with `--ignore fieldmaps`\n",
    "\n",
    "\n",
    "@08/21/2023\n",
    "> After this first round (I call it first round because all subjects were submitted simultaneously, but this is almost my 5th or 6th times running the same script on them), two major errors found:\n",
    "> - `ValueError: Only one phase-encoding direction <j-> found across sources.` 66 subjects missing the other PE direction `j` file. \n",
    "> - - -> rerun fmriprep with `--ignore fieldmaps`. I tried `--use-syn-sdc`, which still gave me the same error\n",
    "> - `slurmstepd: error:.*DUE TO TIME LIMIT*` those subjects (n=21) were stuck at `resume recon-all`\n",
    "> - - -> I guess I will give them another chance. If the same, I'll just let them go\n",
    "> - I do see some other minor errors during xcp-d, which don't make too much sense to me at this point, I will deal with them during the final round.\n",
    "\n",
    "@08/25/2023\n",
    "> The second round of fmriprep + xcp-d finished with mixed sucess, two major errors found:\n",
    "> - `mkdir: write error: Disk quota exceeded` \n",
    "> - - -> cleaned my `tmp` folder and rerun those subjects.\n",
    "> - `slurmstepd: error:.*DUE TO TIME LIMIT*`\n",
    "> - - -> I'll fix this once I fix all other errors.\n",
    "\n",
    "### 2. Eye-tracking\n",
    "\n",
    "```{include} research-journal/research/eye-tracking-asd.md \n",
    "\n",
    "### 3. ReproSchema\n",
    "\n",
    "```{include} research-journal/repronim/reproschema.md"
   ]
  }
 ],
 "metadata": {
  "jupytext": {
   "cell_metadata_filter": "-all",
   "formats": "md:myst",
   "text_representation": {
    "extension": ".md",
    "format_name": "myst",
    "format_version": 0.13,
    "jupytext_version": "1.11.5"
   }
  },
  "kernelspec": {
   "display_name": "Python 3",
   "language": "python",
   "name": "python3"
  },
  "language_info": {
   "codemirror_mode": {
    "name": "ipython",
    "version": 3
   },
   "file_extension": ".py",
   "mimetype": "text/x-python",
   "name": "python",
   "nbconvert_exporter": "python",
   "pygments_lexer": "ipython3",
   "version": "3.11.4"
  },
  "source_map": [
   14
  ]
 },
 "nbformat": 4,
 "nbformat_minor": 5
}