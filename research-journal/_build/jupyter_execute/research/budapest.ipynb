{
 "cells": [
  {
   "cell_type": "markdown",
   "id": "e56ba759",
   "metadata": {},
   "source": [
    "# Budapest\n",
    "\n",
    "## Project Description\n",
    "Hierarchical encoding models in the brain during movie-viewing\n",
    "\n",
    "| | |\n",
    "| -------------- | ----------------------------- |\n",
    "| **GitHub Link**  | [Private](https://github.com/yibeichan/event_segmentation_tgbh) |\n",
    "| **Collaborators**| Zaid Zada, Jeff Mentch, Ron Rice, Sam Nastase* |\n",
    "| **MIT Project**  | No |\n",
    "| **SIG Project**  | No |\n",
    "\n",
    "## Project Updates\n",
    "\n",
    "**This project has been submitted to SfN 2023 and will be presented as a poster in November 2023, Washington DC, USA.**\n",
    "\n",
    "### 10/09/2023 - 10/13/2023\n",
    "- Encoding models (6 in total) were almost done; but then we found the results suspicious — STS has super high activation across all models, even the messy ones; we had the results from the old fmri data as a baseline; need to double check what happened in this newly preprocessed data before we proceed to the next step.\n",
    "\n",
    "### 10/02/2023 - 10/06/2023\n",
    "- finally bring this back to the agenda, TODOs for next week\n",
    "  - finish post-fmriprep\n",
    "  - set up four encoding modes\n",
    "  - compute cofluctuations\n",
    "\n",
    "### 09/25/2023 - 09/29/2023\n",
    "- Jeff finished the fmriprep for both datasets\n",
    "- the rest of us still didn't get time to discuss this project yet...\n",
    "\n",
    "### 08/24/23\n",
    "Met with SN; TODOs for the coming week:\n",
    "- YC figure out previous RA rating data; if not useful, we need to collect new data.\n",
    "- YC figure out audio feature extraction\n",
    "\n",
    "### 02/2023—08/2023\n",
    "YC, ZZ, RR, & SN initialized the project (02/2023)"
   ]
  }
 ],
 "metadata": {
  "jupytext": {
   "cell_metadata_filter": "-all",
   "formats": "md:myst",
   "text_representation": {
    "extension": ".md",
    "format_name": "myst",
    "format_version": 0.13,
    "jupytext_version": "1.11.5"
   }
  },
  "kernelspec": {
   "display_name": "Python 3",
   "language": "python",
   "name": "python3"
  },
  "language_info": {
   "codemirror_mode": {
    "name": "ipython",
    "version": 3
   },
   "file_extension": ".py",
   "mimetype": "text/x-python",
   "name": "python",
   "nbconvert_exporter": "python",
   "pygments_lexer": "ipython3",
   "version": "3.11.4"
  },
  "source_map": [
   14
  ]
 },
 "nbformat": 4,
 "nbformat_minor": 5
}