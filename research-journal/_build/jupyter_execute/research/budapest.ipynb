{
 "cells": [
  {
   "cell_type": "markdown",
   "id": "59c86394",
   "metadata": {},
   "source": [
    "# Budapest\n",
    "\n",
    "## Project Description\n",
    "[Describe your project here]\n",
    "\n",
    "| | |\n",
    "| -------------- | ----------------------------- |\n",
    "| **GitHub Link**  | [Private](https://github.com/yibeichan/event_segmentation_tgbh) |\n",
    "| **Collaborators**| Zaid Zada, Ron Rice, Sam Nastase* |\n",
    "| **MIT Project**  | No |\n",
    "| **SIG Project**  | No |\n",
    "\n",
    "\n",
    "## Project Updates\n",
    "\n",
    "@02/2023—08/2023\n",
    "> YC, ZZ, RR, & SN initialized the project (02/2023)\n",
    ">\n",
    "> This project has been submitted to SfN 2023 and will be presented as a poster in November 2023, Washington DC, USA.\n",
    "\n",
    "@08/24/23\n",
    "> Met with SN; TODOs for the coming week:\n",
    "> - YC figure out previous RA rating data; if not useful, we need to collect new data.\n",
    "> - YC figure out audio feature extraction"
   ]
  }
 ],
 "metadata": {
  "jupytext": {
   "cell_metadata_filter": "-all",
   "formats": "md:myst",
   "text_representation": {
    "extension": ".md",
    "format_name": "myst",
    "format_version": 0.13,
    "jupytext_version": "1.11.5"
   }
  },
  "kernelspec": {
   "display_name": "Python 3",
   "language": "python",
   "name": "python3"
  },
  "language_info": {
   "codemirror_mode": {
    "name": "ipython",
    "version": 3
   },
   "file_extension": ".py",
   "mimetype": "text/x-python",
   "name": "python",
   "nbconvert_exporter": "python",
   "pygments_lexer": "ipython3",
   "version": "3.11.4"
  },
  "source_map": [
   14
  ]
 },
 "nbformat": 4,
 "nbformat_minor": 5
}