{
 "cells": [
  {
   "cell_type": "markdown",
   "id": "4e04dd76",
   "metadata": {},
   "source": [
    "# edge-Functional Connectivity in ADHD subtypes\n",
    "\n",
    "## Project Description\n",
    "\n",
    "| | |\n",
    "| -------------- | ----------------------------- |\n",
    "| **GitHub Link**  | |\n",
    "| **Collaborators**| Maedbh King, Satra Ghosh* |\n",
    "| **MIT Project**  | Yes |\n",
    "| **SIG Project**  | Yes |\n",
    "\n",
    "\n",
    "## Project Updates\n",
    "This project is aiming at OHBM 2024 submission (deadline: 11/17/2023)\n",
    "\n",
    "### 10/02/2023 - 10/06/2023\n",
    "- YC and MK met, set up timelines:\n",
    "    - by 10/13, YC will finish participants selection and MK will double check afterwards\n",
    "    - by 10/20, YC will get eFC matrix for each participants\n",
    "    - by 10/27, mixed-effect modeling should be done (if nothing wrong with the eFC matrice)\n",
    "    - by 11/3, fix any potential errors\n",
    "    - by 11/10, abstract should be done and sent to SG\n",
    "- other notes (for abstract only):\n",
    "    - using movie TP data\n",
    "    - select participants for 3 groups (combined, inattentive, control), match age, sex if possible\n",
    "    - if possible, address comorbidity in selection & mix-modeling (if we don't have time for OHBM, we will do it later for the paper)"
   ]
  }
 ],
 "metadata": {
  "jupytext": {
   "cell_metadata_filter": "-all",
   "formats": "md:myst",
   "text_representation": {
    "extension": ".md",
    "format_name": "myst",
    "format_version": 0.13,
    "jupytext_version": "1.11.5"
   }
  },
  "kernelspec": {
   "display_name": "Python 3",
   "language": "python",
   "name": "python3"
  },
  "language_info": {
   "codemirror_mode": {
    "name": "ipython",
    "version": 3
   },
   "file_extension": ".py",
   "mimetype": "text/x-python",
   "name": "python",
   "nbconvert_exporter": "python",
   "pygments_lexer": "ipython3",
   "version": "3.11.4"
  },
  "source_map": [
   14
  ]
 },
 "nbformat": 4,
 "nbformat_minor": 5
}