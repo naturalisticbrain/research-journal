{
 "cells": [
  {
   "cell_type": "markdown",
   "id": "8fd9e211",
   "metadata": {},
   "source": [
    "# Eye-Tracking ASD\n",
    "\n",
    "## Project Description\n",
    "Explore the heterogeneity/idiosyncrasy within the ASD group through eye-tracking and phenotype data.\n",
    "\n",
    "| | |\n",
    "| -------------- | ----------------------------- |\n",
    "| **GitHub Link**  | [Private on SIG](https://github.com/sensein/eye-tracking-asd) |\n",
    "| **Collaborators**| Fabio Catania, Jeff Mentch, Satra Ghosh* |\n",
    "| **MIT Project**  | Yes |\n",
    "| **SIG Project**  | Yes |\n",
    "\n",
    "## Project Updates\n",
    "\n",
    "### 10/23/2023 - 10/27/2023\n",
    "- met with JM & FC (FC has more detailed notes)\n",
    "  - we decided to go with movie WK first given that it has real people/faces and faster scene change\n",
    "  - features: low-high visual features (can be extracted layer by layer) + audio features (TBD)\n",
    "  - no spatial coordinates from JM's tool\n",
    "  - we need a sprint for this project, maybe right after SfN/OHBM\n",
    "\n",
    "### 10/16/2023 - 10/20/2023\n",
    "- FC & YC met on 10/19, discussed & planned things based on our meeting with SG on 10/18\n",
    "- FC has emailed Andrea\n",
    "- planing meetings with JM next week for discussing movie choice, feature choices, & DICE\n",
    "- YC will put more effort to this after OHBM submission\n",
    "\n",
    "### 10/02/2023 - 10/06/2023\n",
    "- YC proposed to separate the methods part out as a new project; no follow-up yet\n",
    "- YC and FC met and YC will make some plots based on the coordinates in two weeks (not guaranteed given YC's schedule)\n",
    "\n",
    "### 09/18/2023 - 09/22/2023\n",
    "- YC and FC met on Thursday and splitted the task for writing pre-registration. Next meeting will be on 10/05.\n",
    "\n",
    "### 09/11/2023 - 09/15/2023\n",
    "- We discussed the behavioral encoding model with Satra on Thursday, then we decided to do pre-registration\n",
    "\n",
    "### 09/05/2023 - 09/08/2023\n",
    "- got metadata for eyetracking (e.g., sampling rate (subjects have different sampling rates), starting, ending time, order)\n",
    "- subtracted the starting time from the eyetracking record, then I got negative numbers for the first couple of lines in each file (I haven't figured out why yet)\n",
    "\n",
    "### 08/28/2023 - 09/01/2023\n",
    "- Revised my behavioral data cleaning code from last week\n",
    "- Reformatted the eyetracking txt into multiple CSV files (e.g., fixation, saccade, blink, etc.).\n",
    "- Figured out the actual starting & ending time for the eyetracking data! Haven't extracted it yet but will do it next week! Then we can start playing with the data...\n",
    "\n",
    "### 08/23/2023 — 08/24/2023\n",
    "- Cleaned the eye-tracking data with behavioral information, figured out who has watched which movie(s) in what order.\n",
    "- Met with Fabio for next steps:\n",
    "  - YC will extract time series data from eye-tracking txt. I need to **feel** the data to come up concrete/interesting RQs. \n",
    "  - FC will explore the phenotype data and the stimuli. We may need to coordinate with MK and JM at some point.\n",
    "\n",
    "### 08/17/2023\n",
    "First meeting with Fabio, agreed on the goal of this project: Explore the heterogeneity/idiosyncrasy within the ASD group. Specifically:\n",
    "- we will do ASD vs TD comparison as the baseline checking\n",
    "- our focus will be within ASD group"
   ]
  }
 ],
 "metadata": {
  "jupytext": {
   "cell_metadata_filter": "-all",
   "formats": "md:myst",
   "text_representation": {
    "extension": ".md",
    "format_name": "myst",
    "format_version": 0.13,
    "jupytext_version": "1.11.5"
   }
  },
  "kernelspec": {
   "display_name": "Python 3",
   "language": "python",
   "name": "python3"
  },
  "language_info": {
   "codemirror_mode": {
    "name": "ipython",
    "version": 3
   },
   "file_extension": ".py",
   "mimetype": "text/x-python",
   "name": "python",
   "nbconvert_exporter": "python",
   "pygments_lexer": "ipython3",
   "version": "3.11.4"
  },
  "source_map": [
   14
  ]
 },
 "nbformat": 4,
 "nbformat_minor": 5
}