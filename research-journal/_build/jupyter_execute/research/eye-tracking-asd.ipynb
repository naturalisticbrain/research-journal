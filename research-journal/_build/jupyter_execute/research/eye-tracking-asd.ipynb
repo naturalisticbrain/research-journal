{
 "cells": [
  {
   "cell_type": "markdown",
   "id": "68338318",
   "metadata": {},
   "source": [
    "# Eye-Tracking ASD\n",
    "\n",
    "## Project Description\n",
    "Explore the heterogeneity/idiosyncrasy within the ASD group through eye-tracking and phenotype data.\n",
    "\n",
    "| | |\n",
    "| -------------- | ----------------------------- |\n",
    "| **GitHub Link**  | [Private on SIG](https://github.com/sensein/eye-tracking-asd) |\n",
    "| **Collaborators**| Fabio Catania, TBD |\n",
    "| **MIT Project**  | Yes |\n",
    "| **SIG Project**  | Yes |\n",
    "\n",
    "\n",
    "## Project Updates\n",
    "\n",
    "@08/17/2023\n",
    "> First meeting with Fabio, agreed on the goal of this project: Explore the heterogeneity/idiosyncrasy within the ASD group. Specifically:\n",
    "> - we will do ASD vs TD comparison as the baseline checking\n",
    "> - our focus will be within ASD group\n",
    "\n",
    "@08/23/2023—08/24/2023\n",
    "> - Cleaned the eye-tracking data with behavioral information, figured out who has watched which movie(s) in what order.\n",
    "> - Met with Fabio for next steps:\n",
    "> - - YC will extract time series data from eye-tracking txt. I need to **feel** the data to come up concrete/interesting RQs. \n",
    "> - - FC will explore the phenotype data and the stimuli. We may need to coordinate with MK and JM at some point."
   ]
  }
 ],
 "metadata": {
  "jupytext": {
   "cell_metadata_filter": "-all",
   "formats": "md:myst",
   "text_representation": {
    "extension": ".md",
    "format_name": "myst",
    "format_version": 0.13,
    "jupytext_version": "1.11.5"
   }
  },
  "kernelspec": {
   "display_name": "Python 3",
   "language": "python",
   "name": "python3"
  },
  "language_info": {
   "codemirror_mode": {
    "name": "ipython",
    "version": 3
   },
   "file_extension": ".py",
   "mimetype": "text/x-python",
   "name": "python",
   "nbconvert_exporter": "python",
   "pygments_lexer": "ipython3",
   "version": "3.11.4"
  },
  "source_map": [
   14
  ]
 },
 "nbformat": 4,
 "nbformat_minor": 5
}