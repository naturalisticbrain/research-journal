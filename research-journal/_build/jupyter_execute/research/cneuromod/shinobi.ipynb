{
 "cells": [
  {
   "cell_type": "markdown",
   "id": "4079b628",
   "metadata": {},
   "source": [
    "# Shinobi\n",
    "\n",
    "## Project Description\n",
    "Video game playing in a deep scanning [dataset](https://www.cneuromod.ca/)\n",
    "\n",
    "| | |\n",
    "| -------------- | ----------------------------- |\n",
    "| **GitHub Link**  |  |\n",
    "| **Notion** | [Page](https://www.notion.so/yibeichen/shinobi-026d717a5dee4c49ac1624a44a1b82a5?pvs=4) |\n",
    "| **Contributors**| Yibei Chen, TBD, Satra Ghosh* |\n",
    "| **MIT Project**  | Yes |\n",
    "| **SIG Project**  | Yes |\n",
    "\n",
    "## Project Updates\n",
    "\n",
    "### 02/12/2024 - 02/16/2024\n",
    "- met with satra and had a plan (in the notion page) which needs more time and resource. we decide to do it step-by-step and skip this dataset for CCN.\n",
    "\n",
    "### 01/29/2024 - 02/02/2024\n",
    "- finally took a look at the extracted information but then I found something confusing; opened an issue [here](https://github.com/courtois-neuromod/shinobi/issues/41)\n",
    "\n",
    "### 01/15/2024 - 01/19/2024\n",
    "- finally extracted `bk2` files (game replay files) to `json` files for the game play outside and inside the fmri; but i need to redo the extraction, it turns out that audio extract is also an option, see [here](https://github.com/courtois-neuromod/shinobi_training/issues/1#issuecomment-1900726304). There are some broken `bk2` files too... a bit sad.\n",
    "- i'll start visualization next week\n",
    "- fmri data is put aside at this moment"
   ]
  }
 ],
 "metadata": {
  "jupytext": {
   "cell_metadata_filter": "-all",
   "formats": "md:myst",
   "text_representation": {
    "extension": ".md",
    "format_name": "myst",
    "format_version": 0.13,
    "jupytext_version": "1.11.5"
   }
  },
  "kernelspec": {
   "display_name": "Python 3",
   "language": "python",
   "name": "python3"
  },
  "language_info": {
   "codemirror_mode": {
    "name": "ipython",
    "version": 3
   },
   "file_extension": ".py",
   "mimetype": "text/x-python",
   "name": "python",
   "nbconvert_exporter": "python",
   "pygments_lexer": "ipython3",
   "version": "3.12.1"
  },
  "source_map": [
   14
  ]
 },
 "nbformat": 4,
 "nbformat_minor": 5
}