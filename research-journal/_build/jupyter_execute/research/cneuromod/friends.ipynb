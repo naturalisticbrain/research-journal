{
 "cells": [
  {
   "cell_type": "markdown",
   "id": "dbc74c48",
   "metadata": {},
   "source": [
    "# Friends cNeuroMod\n",
    "\n",
    "## Project Description\n",
    " in a deep scanning [dataset](https://www.cneuromod.ca/)\n",
    "\n",
    "| | |\n",
    "| -------------- | ----------------------------- |\n",
    "| **GitHub Link** | |\n",
    "| **Notion** | [Page](https://www.notion.so/yibeichen/friends-7756a60363744710a4473c2c545fdc96?pvs=4)|\n",
    "| **Contributors**| Yibei Chen, TBD, Satra Ghosh* |\n",
    "| **MIT Project**  | Yes |\n",
    "| **SIG Project**  | Yes |\n",
    "\n",
    "## Project Updates\n",
    "\n",
    "### 02/19/2024 - 02/23/2024\n",
    "- Given the CCN deadline (April 12th), we decide to work on Friends dataset instead of the video game one for the submission\n",
    "- YC will come up with a detailed analysis plan next week given our topic/theme"
   ]
  }
 ],
 "metadata": {
  "jupytext": {
   "cell_metadata_filter": "-all",
   "formats": "md:myst",
   "text_representation": {
    "extension": ".md",
    "format_name": "myst",
    "format_version": 0.13,
    "jupytext_version": "1.11.5"
   }
  },
  "kernelspec": {
   "display_name": "Python 3",
   "language": "python",
   "name": "python3"
  },
  "language_info": {
   "codemirror_mode": {
    "name": "ipython",
    "version": 3
   },
   "file_extension": ".py",
   "mimetype": "text/x-python",
   "name": "python",
   "nbconvert_exporter": "python",
   "pygments_lexer": "ipython3",
   "version": "3.12.1"
  },
  "source_map": [
   14
  ]
 },
 "nbformat": 4,
 "nbformat_minor": 5
}